{
 "cells": [
  {
   "cell_type": "markdown",
   "metadata": {},
   "source": [
    "## Running the code (part a)\n",
    "# SSH To terminal\n",
    "If you are running your database remotely and only have access to the terminal. You are able to recreate the experience of running the script from the terminal via the following code. The key components to change are:\n",
    "1. The ssh user name.\n",
    "2. The path/to/repo.\n",
    "3. Input.\n",
    "    - Sample input: \"GetStatCumulative\\nUS\\n2\\n2022\\n3\\n2023\"\n",
    "    - Note that the sample input feeds in all input parameters at once.\n",
    "\n",
    "This way is not recommended, as you are only able to run one query at a time. If you wish to utilize terminal commands, it would be more convenient to run report_generation.py"
   ]
  },
  {
   "cell_type": "code",
   "execution_count": null,
   "metadata": {},
   "outputs": [],
   "source": [
    "%%bash\n",
    "ssh gkang9@ugradx.cs.jhu.edu\n",
    "cd path/to/repo/\n",
    "python -m venv virenv\n",
    "source virenv/bin/activate\n",
    "pip install matplotlib\n",
    "pip install pymysql\n",
    "pip install plotly\n",
    "pip install pandas\n",
    "pip install termplotlib\n",
    "echo -e \"input\" | python /report_generation.py \n"
   ]
  },
  {
   "cell_type": "markdown",
   "metadata": {},
   "source": [
    "### Running the code (part b)\n",
    "#### Python notebook\n",
    "If you have access to your database on a local server, or via a non terminal output, you may run the following sections to access the database. This way is recommended if you would like to utilize the graphics demonstrated in the stored procedures: GetTwitchStats and GetStatCumulative."
   ]
  },
  {
   "cell_type": "markdown",
   "metadata": {},
   "source": [
    "# Initialize import statements"
   ]
  },
  {
   "cell_type": "code",
   "execution_count": 15,
   "metadata": {},
   "outputs": [],
   "source": [
    "import os\n",
    "import pymysql\n",
    "import pandas as pd\n",
    "import matplotlib.pyplot as plt\n",
    "\n",
    "try:\n",
    "   import plotly.express as px\n",
    "except:\n",
    "   print(\"ERROR: Failed to install plotly (necessary for sunburst plots\")\n",
    "   "
   ]
  },
  {
   "cell_type": "markdown",
   "metadata": {},
   "source": [
    "# Initialize Helper Methods\n",
    "The following code block contains helper methods, mostly regarding the output of results. The code documented here is as follows:\n",
    "- printTable(result):\n",
    "    - @param result. A dictionary object returned by the sql cursor query\n",
    "    - credited to StackOverflow user Le Droid.\n",
    "    - Prints out query results in table format\n",
    "    - Automatically determines row sizes and column headers\n",
    "- plotCumulative(result):\n",
    "    - @param result. A dictionary object returned by the sql cursor query\n",
    "    - Plots all TwitchStats and covid data over time\n",
    "- plotSunburst(result):\n",
    "    - @param result. A dictionary object returned by the sql cursor query\n",
    "    - Plots the specified twitchstat as an interactive sunburst plot.\n",
    "    - Layers are formatted as year --> month --> stat value\n",
    "- plotCumulativeSunburst(result):\n",
    "    - @param result. A dictionary object returned by the sql cursor query\n",
    "    - Plots the all stats and covid data as an interactive sunburst plot.\n",
    "    - Layers are formatted as year --> month --> day --> stat value\n",
    "- printMethods(result):\n",
    "    - prints all available functions that you can do."
   ]
  },
  {
   "cell_type": "code",
   "execution_count": 16,
   "metadata": {},
   "outputs": [],
   "source": [
    "# Initialize helper methods\n",
    "# Print in table format\n",
    "def printTable(result, colList=None):\n",
    "    # https://stackoverflow.com/questions/17330139/python-printing-a-dictionary-as-a-horizontal-table-with-headers\n",
    "   colList = list(result[0].keys() if result else [])\n",
    "   temp = [colList] # 1st row = header\n",
    "   for item in result:\n",
    "       temp.append([str(item[col] if item[col] is not None else '') for col in colList])\n",
    "   colSize = [max(map(len,col)) for col in zip(*temp)]\n",
    "   formatStr = ' | '.join([\"{{:<{}}}\".format(i) for i in colSize])\n",
    "   temp.insert(1, ['-' * i for i in colSize]) # Seperating line\n",
    "   for item in temp:\n",
    "       print(formatStr.format(*item))\n",
    "\n",
    "# Plot results\n",
    "def plotCumulative(result):\n",
    "   plt.figure\n",
    "   colList = list(result.keys())\n",
    "   print(1, len(colList))\n",
    "   for idx in range(1, len(colList)):\n",
    "      if (colList[idx] != \"dateofdata\" and colList[idx] != \"yearNum\" and colList[idx] != \"monthNum\" and colList[idx] != \"year\" and colList[idx] != \"month\"):\n",
    "         plt.plot(result[colList[0]], result[colList[idx]])\n",
    "   plt.legend(colList[1:(len(colList))])\n",
    "   plt.show()\n",
    "\n",
    "# Plot sunburst results\n",
    "def plotSunburst(result):\n",
    "   plt.figure\n",
    "   fig = px.sunburst(result, path['year', 'month'], values = 'selected')\n",
    "   fig.show()\n",
    "\n",
    "# Plot multiple sunburst results\n",
    "def plotCumulativeSunburst(result):\n",
    "\n",
    "   colList = list(result.keys())\n",
    "   for idx in range(1, len(colList)):\n",
    "      if (colList[idx] != \"dateofdata\" and colList[idx] != \"yearNum\" and colList[idx] != \"monthNum\" and colList[idx] != \"year\" and colList[idx] != \"month\"):\n",
    "         plt.figure\n",
    "         fig = px.sunburst(result, path['yearNum', 'monthNum', 'dateofdata'], values = result[colList[idx]], title=colList[idx])\n",
    "         fig.show()\n",
    "\n",
    "# Print available methods\n",
    "def printMethods():\n",
    "    print(\"Use \\'q\\' or \\'quit\\' to quit.\")\n",
    "    print(\"- GetMaxCovid(country VARCHAR(100)) takes in a country name and returns the max number of cases and what month/year they occured for that country.\")\n",
    "    print(\"- GetAverageRatings(year INT) takes in a year and returns the average rating for film media released in that year.\")\n",
    "    print(\"- GetCovidPlatforms(year INT, month INT) takes in month/year and returns the average Metacritic rating for games relased in that month.\")\n",
    "    print(\"- GetStatCumulative(country VARCHAR(100), startMonth INT, startYear INT, stopMonth INT, stopYear INT) takes in a time period (specified by start/stop month/year and a country, plotting COVID cases and twitch stats overtime. The graph display is not interactable with the python script, but is interactable with ipynb\")\n",
    "    print(\"- GetTwitchStats(command VARCHAR(15)) takes in a twitchStatistcs and returns the specified twitch statistics over available time.\\nPossible commands: hoursWatched, avgViewers, peakViewers, avgChannels, peakChannels, hoursStreamed, gamesStreamed, activeAffiliate, activePartners\")\n",
    "    "
   ]
  },
  {
   "cell_type": "markdown",
   "metadata": {},
   "source": [
    "## Connecting to database\n",
    "Fill out the following code block with info on how to connect to your database. Sample input has been shown below"
   ]
  },
  {
   "cell_type": "code",
   "execution_count": null,
   "metadata": {},
   "outputs": [],
   "source": [
    "# Initialize database and cursors\n",
    "db = pymysql.connect(\n",
    "    host = \"dbase.cs.jhu.edu\",\n",
    "    user = \"22fa_gkang9\",\n",
    "    password = \"password\",\n",
    "    database = \"22fa_gkang9_db\")\n",
    "cursor = db.cursor(pymysql.cursors.DictCursor)"
   ]
  },
  {
   "cell_type": "markdown",
   "metadata": {},
   "source": [
    "## Run method\n",
    "Once the program beings running, you may type in stored procedure commands in order to access the database. The commands are not case sensitive. \n",
    "\n",
    "Enter 'q' or 'quit' to stop the program and close the database connection. "
   ]
  },
  {
   "cell_type": "code",
   "execution_count": null,
   "metadata": {},
   "outputs": [],
   "source": [
    "\n",
    "\n",
    "# Call methods\n",
    "try :\n",
    "    print(\"Use \\'q\\' or \\'quit\\' to quit. Use \\'h\\' or \\'help\\' for info on methods\")\n",
    "    method_name = input(\"Enter method name: \")\n",
    "    method_name = method_name.lower()\n",
    "    while (not (method_name == \"q\" or method_name == \"quit\")):\n",
    "        if (method_name == \"getmaxcovid\"):\n",
    "            country = input(\"Enter country name: \")\n",
    "            cursor.execute(\"CALL GetMaxCovid(%s)\", country)\n",
    "            results = cursor.fetchall()\n",
    "            printTable(results)\n",
    "\n",
    "        elif (method_name == \"getaverageratings\"):\n",
    "            year = input(\"Enter desired year: \")\n",
    "            cursor.execute(\"CALL GetAverageRatings(%s)\", int(year))\n",
    "            results = cursor.fetchall()\n",
    "            printTable(results)\n",
    "\n",
    "        elif (method_name == \"getcovidplatforms\"):\n",
    "            year = input(\"Enter desired year: \")\n",
    "            month = input(\"Enter desired month: \")\n",
    "            cursor.execute(\"CALL GetCovidPlatforms(%s, %s)\", [year, month])\n",
    "            results = cursor.fetchall()\n",
    "            printTable(results)\n",
    "\n",
    "        elif (method_name == \"getstatcumulative\"):\n",
    "            country = input(\"Enter country name: \")\n",
    "            startMonth = input(\"Enter start month: \")\n",
    "            startYear = input(\"Enter start year: \")\n",
    "            stopMonth = input(\"Enter stop month: \")\n",
    "            stopYear = input(\"Enter stop year: \")\n",
    "            cursor.execute(\"CALL GetStatCumulative(%s, %s, %s, %s, %s)\", [country, startMonth, startYear, stopMonth, stopYear])\n",
    "            results = cursor.fetchall()\n",
    "            # Display Results\n",
    "            printTable(results)\n",
    "            try:\n",
    "               plotCumulative(results)\n",
    "               plotCumulativeSunburst(results)\n",
    "            except:\n",
    "               print(\"Failed to plot results of GetStatCumulative\")\n",
    "\n",
    "        elif (method_name == \"getcovidtwitchstats\"):\n",
    "            command = input(\"Enter desired command: \")\n",
    "            cursor.execute(\"CALL GetTwitchStats(%s)\", command)\n",
    "            results = cursor.fetchall()\n",
    "            print(results)\n",
    "            printTable(results)\n",
    "            try:\n",
    "               plotSunburst(results)\n",
    "            except:\n",
    "               print(\"Failed to plotresults of GetTwitchStats\")\n",
    "\n",
    "        elif (method_name == \"help\" or method_name == \"h\"):\n",
    "            printMethods()\n",
    "\n",
    "        else:\n",
    "            print(\"ERROR: Invalid Command\")\n",
    "        method_name = input(\"Enter procedure name: \")\n",
    "except:\n",
    "    db.commit()\n",
    "    cursor.close()\n",
    "    db.close()\n",
    "\n",
    "try:\n",
    "    db.commit()\n",
    "    cursor.close()\n",
    "    db.close()\n",
    "    print(\"Closed connections and executed all queries successfully\")\n",
    "except:\n",
    "    print(\"Error occured in querying, connection already closed\")"
   ]
  }
 ],
 "metadata": {
  "kernelspec": {
   "display_name": "Python 3.9.12 ('base')",
   "language": "python",
   "name": "python3"
  },
  "language_info": {
   "codemirror_mode": {
    "name": "ipython",
    "version": 3
   },
   "file_extension": ".py",
   "mimetype": "text/x-python",
   "name": "python",
   "nbconvert_exporter": "python",
   "pygments_lexer": "ipython3",
   "version": "3.9.12"
  },
  "orig_nbformat": 4,
  "vscode": {
   "interpreter": {
    "hash": "e31837aca1fa43e18117719ca397dcbb9a59a1ad4b77b110511c3afab9fb32c7"
   }
  }
 },
 "nbformat": 4,
 "nbformat_minor": 2
}
