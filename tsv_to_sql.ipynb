{
 "cells": [
  {
   "cell_type": "code",
   "execution_count": 44,
   "metadata": {},
   "outputs": [],
   "source": [
    "import pandas as pd\n",
    "import numpy as np"
   ]
  },
  {
   "cell_type": "code",
   "execution_count": 45,
   "metadata": {},
   "outputs": [],
   "source": [
    "data = pd.read_csv('raw_data/twitchStats.csv')         # Load csv file\n",
    "#data = pd.read_csv('raw_data/imdb_titleInfo.tsv', sep='\\t')    # Load tsv file\n",
    "# Open sql file for writing\n",
    "f = open(\"insert_files/twitchStats.sql\", \"a\")\n",
    "\n",
    "iterate_all = True         # Set True to iterate through whole file, False to iterate through halft"
   ]
  },
  {
   "cell_type": "code",
   "execution_count": 46,
   "metadata": {},
   "outputs": [
    {
     "name": "stdout",
     "output_type": "stream",
     "text": [
      "   year  Month  Hours_watched  Avg_viewers  Peak_viewers  Streams  \\\n",
      "0  2016      1      480241904       646355       1275257  7701675   \n",
      "1  2016      2      441859897       635769       1308032  7038520   \n",
      "2  2016      3      490669308       660389       1591551  7390957   \n",
      "3  2016      4      377975447       525696       1775120  6869719   \n",
      "\n",
      "   Avg_channels Games_streamed  \n",
      "0         20076         12,149  \n",
      "1         20427         12,134  \n",
      "2         20271         12,234  \n",
      "3         16791         12,282  \n"
     ]
    },
    {
     "data": {
      "text/plain": [
       "'\\nfor index in range(data.shape[0]):\\n    row = data.iloc[index][3]\\n    try:\\n        data.iloc[index, 3] = row.replace(\"\"\", \"\")\\n        data.iloc[index, 3] = row.replace(\"\\'\", \"\")\\n    except:\\n        row = None\\n'"
      ]
     },
     "execution_count": 46,
     "metadata": {},
     "output_type": "execute_result"
    }
   ],
   "source": [
    "# Remove special characters\n",
    "data = data.replace('\\\\N', 'NULL')\n",
    "data = data.replace(np.nan, 'NULL')\n",
    "data = data.replace('\\'', ' ')\n",
    "data = data.replace(';', '.')\n",
    "data = data.replace('nbd', 'NULL')\n",
    "data = data.replace('tbd', 'NULL')\n",
    "\n",
    "# Visualize first 4 rows\n",
    "print(data.head(4))\n",
    "\"\"\"\n",
    "for index in range(data.shape[0]):\n",
    "    row = data.iloc[index][3]\n",
    "    try:\n",
    "        data.iloc[index, 3] = row.replace(\"\\\"\", \"\")\n",
    "        data.iloc[index, 3] = row.replace(\"\\'\", \"\")\n",
    "    except:\n",
    "        row = None\n",
    "\"\"\""
   ]
  },
  {
   "cell_type": "code",
   "execution_count": 47,
   "metadata": {},
   "outputs": [
    {
     "name": "stdout",
     "output_type": "stream",
     "text": [
      "660389\n"
     ]
    }
   ],
   "source": [
    "row = data.iloc[2][3]\n",
    "print(row)\n"
   ]
  },
  {
   "cell_type": "code",
   "execution_count": 48,
   "metadata": {},
   "outputs": [
    {
     "name": "stdout",
     "output_type": "stream",
     "text": [
      "0\n"
     ]
    },
    {
     "ename": "KeyError",
     "evalue": "'Hours watched (mins)'",
     "output_type": "error",
     "traceback": [
      "\u001b[0;31m---------------------------------------------------------------------------\u001b[0m",
      "\u001b[0;31mKeyError\u001b[0m                                  Traceback (most recent call last)",
      "File \u001b[0;32m~/opt/anaconda3/lib/python3.9/site-packages/pandas/core/indexes/base.py:3621\u001b[0m, in \u001b[0;36mIndex.get_loc\u001b[0;34m(self, key, method, tolerance)\u001b[0m\n\u001b[1;32m   3620\u001b[0m \u001b[39mtry\u001b[39;00m:\n\u001b[0;32m-> 3621\u001b[0m     \u001b[39mreturn\u001b[39;00m \u001b[39mself\u001b[39;49m\u001b[39m.\u001b[39;49m_engine\u001b[39m.\u001b[39;49mget_loc(casted_key)\n\u001b[1;32m   3622\u001b[0m \u001b[39mexcept\u001b[39;00m \u001b[39mKeyError\u001b[39;00m \u001b[39mas\u001b[39;00m err:\n",
      "File \u001b[0;32m~/opt/anaconda3/lib/python3.9/site-packages/pandas/_libs/index.pyx:136\u001b[0m, in \u001b[0;36mpandas._libs.index.IndexEngine.get_loc\u001b[0;34m()\u001b[0m\n",
      "File \u001b[0;32m~/opt/anaconda3/lib/python3.9/site-packages/pandas/_libs/index.pyx:163\u001b[0m, in \u001b[0;36mpandas._libs.index.IndexEngine.get_loc\u001b[0;34m()\u001b[0m\n",
      "File \u001b[0;32mpandas/_libs/hashtable_class_helper.pxi:5198\u001b[0m, in \u001b[0;36mpandas._libs.hashtable.PyObjectHashTable.get_item\u001b[0;34m()\u001b[0m\n",
      "File \u001b[0;32mpandas/_libs/hashtable_class_helper.pxi:5206\u001b[0m, in \u001b[0;36mpandas._libs.hashtable.PyObjectHashTable.get_item\u001b[0;34m()\u001b[0m\n",
      "\u001b[0;31mKeyError\u001b[0m: 'Hours watched (mins)'",
      "\nThe above exception was the direct cause of the following exception:\n",
      "\u001b[0;31mKeyError\u001b[0m                                  Traceback (most recent call last)",
      "\u001b[1;32m/Users/gabbykang/DS/DBFinalProject/tsv_to_sql.ipynb Cell 5\u001b[0m in \u001b[0;36m<cell line: 2>\u001b[0;34m()\u001b[0m\n\u001b[1;32m      <a href='vscode-notebook-cell:/Users/gabbykang/DS/DBFinalProject/tsv_to_sql.ipynb#W3sZmlsZQ%3D%3D?line=4'>5</a>\u001b[0m         \u001b[39mprint\u001b[39m(index)\n\u001b[1;32m      <a href='vscode-notebook-cell:/Users/gabbykang/DS/DBFinalProject/tsv_to_sql.ipynb#W3sZmlsZQ%3D%3D?line=5'>6</a>\u001b[0m     \u001b[39m#f.write('INSERT INTO TwitchGames VALUES(\\\"%s\\\", %s,  %s, %s, %s, \\\"%s\\\", %s, %s, %s);\\n' % (row[\"Game\"], row[\"Watch time (mins)\"], row[\"Stream time (mins)\"], row[\"Peak viewers\"], row[\"Peak channels\"], row[\"Streamers\"], row[\"Average viewers\"], row[\"Average channels\"], row[\"Average viewer ratio\"]))\u001b[39;00m\n\u001b[1;32m      <a href='vscode-notebook-cell:/Users/gabbykang/DS/DBFinalProject/tsv_to_sql.ipynb#W3sZmlsZQ%3D%3D?line=6'>7</a>\u001b[0m     \u001b[39m#f.write('INSERT INTO TwitchWatched VALUES(\\\"%s\\\", %s, %s, %s, %s, %s, %s, %s, %s, \\\"%s\\\");\\n' % (row[\"Channel\"], row[\"Watch time (mins)\"], row[\"Stream time (mins)\"], row[\"Peak viewers\"], row[\"Average viewers\"], row[\"Followers\"], row[\"Followers gained\"], row[\"Partnered\"], row[\"Mature\"], row[\"Language\"]))\u001b[39;00m\n\u001b[0;32m----> <a href='vscode-notebook-cell:/Users/gabbykang/DS/DBFinalProject/tsv_to_sql.ipynb#W3sZmlsZQ%3D%3D?line=7'>8</a>\u001b[0m     f\u001b[39m.\u001b[39mwrite(\u001b[39m'\u001b[39m\u001b[39mINSERT INTO TwitchStats VALUES(\u001b[39m\u001b[39m\\\"\u001b[39;00m\u001b[39m%s\u001b[39;00m\u001b[39m\\\"\u001b[39;00m\u001b[39m, \u001b[39m\u001b[39m%s\u001b[39;00m\u001b[39m,  \u001b[39m\u001b[39m%s\u001b[39;00m\u001b[39m, \u001b[39m\u001b[39m%s\u001b[39;00m\u001b[39m, \u001b[39m\u001b[39m%s\u001b[39;00m\u001b[39m, \u001b[39m\u001b[39m%s\u001b[39;00m\u001b[39m, \u001b[39m\u001b[39m%s\u001b[39;00m\u001b[39m, \u001b[39m\u001b[39m%s\u001b[39;00m\u001b[39m, \u001b[39m\u001b[39m%s\u001b[39;00m\u001b[39m, \u001b[39m\u001b[39m%s\u001b[39;00m\u001b[39m);\u001b[39m\u001b[39m\\n\u001b[39;00m\u001b[39m'\u001b[39m \u001b[39m%\u001b[39m (row[\u001b[39m\"\u001b[39m\u001b[39mMonth\u001b[39m\u001b[39m\"\u001b[39m], row[\u001b[39m\"\u001b[39;49m\u001b[39mHours watched (mins)\u001b[39;49m\u001b[39m\"\u001b[39;49m], row[\u001b[39m\"\u001b[39m\u001b[39mAverage viewers\u001b[39m\u001b[39m\"\u001b[39m], row[\u001b[39m\"\u001b[39m\u001b[39mPeak viewers\u001b[39m\u001b[39m\"\u001b[39m], row[\u001b[39m\"\u001b[39m\u001b[39mAverage channels\u001b[39m\u001b[39m\"\u001b[39m], row[\u001b[39m\"\u001b[39m\u001b[39mPeak channels\u001b[39m\u001b[39m\"\u001b[39m], row[\u001b[39m\"\u001b[39m\u001b[39mHours streamed (mins)\u001b[39m\u001b[39m\"\u001b[39m], row[\u001b[39m\"\u001b[39m\u001b[39mGames streamed\u001b[39m\u001b[39m\"\u001b[39m], row[\u001b[39m\"\u001b[39m\u001b[39mActive affiliates\u001b[39m\u001b[39m\"\u001b[39m], row[\u001b[39m\"\u001b[39m\u001b[39mActive partners\u001b[39m\u001b[39m\"\u001b[39m]))\n\u001b[1;32m      <a href='vscode-notebook-cell:/Users/gabbykang/DS/DBFinalProject/tsv_to_sql.ipynb#W3sZmlsZQ%3D%3D?line=8'>9</a>\u001b[0m     \u001b[39m#summart = row[\"summary\"]\u001b[39;00m\n\u001b[1;32m     <a href='vscode-notebook-cell:/Users/gabbykang/DS/DBFinalProject/tsv_to_sql.ipynb#W3sZmlsZQ%3D%3D?line=9'>10</a>\u001b[0m     \u001b[39m#summart = summart.replace(\"\\\"\", \"\")\u001b[39;00m\n\u001b[1;32m     <a href='vscode-notebook-cell:/Users/gabbykang/DS/DBFinalProject/tsv_to_sql.ipynb#W3sZmlsZQ%3D%3D?line=10'>11</a>\u001b[0m     \u001b[39m#f.write('INSERT INTO Metacritic VALUES(\\\"%s\\\", %s, \\\"%s\\\", \\\"%s\\\", %s, \\\"%s\\\");\\n' % (row[\"name\"], row[\"meta_score\"], row[\"platform\"], row[\"release_date\"], row[\"user_review\"], summart))\u001b[39;00m\n\u001b[0;32m   (...)\u001b[0m\n\u001b[1;32m     <a href='vscode-notebook-cell:/Users/gabbykang/DS/DBFinalProject/tsv_to_sql.ipynb#W3sZmlsZQ%3D%3D?line=18'>19</a>\u001b[0m     \u001b[39m#f.write(\"INSERT INTO TitleInfo VALUES (\\\"%s\\\", \\\"%s\\\", \\\"%s\\\", \\\"%s\\\", %s, %s, %s, \\\"%s\\\");\\n\" % (row[\"tconst\"], row[\"titleType\"], row[\"primaryTitle\"], row[\"originalTitle\"], row[\"startYear\"], row[\"endYear\"], row[\"runtimeMinutes\"], row[\"genres\"]))\u001b[39;00m\n\u001b[1;32m     <a href='vscode-notebook-cell:/Users/gabbykang/DS/DBFinalProject/tsv_to_sql.ipynb#W3sZmlsZQ%3D%3D?line=19'>20</a>\u001b[0m     \u001b[39m#f.write(\"INSERT INTO Basics VALUES (\\\"%s\\\", \\\"%s\\\", %s, %s, \\\"%s\\\", \\\"%s\\\");\\n\" % (row[\"nconst\"], row[\"primaryName\"], row[\"birthYear\"], row[\"deathYear\"], row[\"primaryProfession\"], row[\"knownForTitles\"]))\u001b[39;00m\n\u001b[1;32m     <a href='vscode-notebook-cell:/Users/gabbykang/DS/DBFinalProject/tsv_to_sql.ipynb#W3sZmlsZQ%3D%3D?line=20'>21</a>\u001b[0m f\u001b[39m.\u001b[39mclose()\n",
      "File \u001b[0;32m~/opt/anaconda3/lib/python3.9/site-packages/pandas/core/series.py:958\u001b[0m, in \u001b[0;36mSeries.__getitem__\u001b[0;34m(self, key)\u001b[0m\n\u001b[1;32m    955\u001b[0m     \u001b[39mreturn\u001b[39;00m \u001b[39mself\u001b[39m\u001b[39m.\u001b[39m_values[key]\n\u001b[1;32m    957\u001b[0m \u001b[39melif\u001b[39;00m key_is_scalar:\n\u001b[0;32m--> 958\u001b[0m     \u001b[39mreturn\u001b[39;00m \u001b[39mself\u001b[39;49m\u001b[39m.\u001b[39;49m_get_value(key)\n\u001b[1;32m    960\u001b[0m \u001b[39mif\u001b[39;00m is_hashable(key):\n\u001b[1;32m    961\u001b[0m     \u001b[39m# Otherwise index.get_value will raise InvalidIndexError\u001b[39;00m\n\u001b[1;32m    962\u001b[0m     \u001b[39mtry\u001b[39;00m:\n\u001b[1;32m    963\u001b[0m         \u001b[39m# For labels that don't resolve as scalars like tuples and frozensets\u001b[39;00m\n",
      "File \u001b[0;32m~/opt/anaconda3/lib/python3.9/site-packages/pandas/core/series.py:1069\u001b[0m, in \u001b[0;36mSeries._get_value\u001b[0;34m(self, label, takeable)\u001b[0m\n\u001b[1;32m   1066\u001b[0m     \u001b[39mreturn\u001b[39;00m \u001b[39mself\u001b[39m\u001b[39m.\u001b[39m_values[label]\n\u001b[1;32m   1068\u001b[0m \u001b[39m# Similar to Index.get_value, but we do not fall back to positional\u001b[39;00m\n\u001b[0;32m-> 1069\u001b[0m loc \u001b[39m=\u001b[39m \u001b[39mself\u001b[39;49m\u001b[39m.\u001b[39;49mindex\u001b[39m.\u001b[39;49mget_loc(label)\n\u001b[1;32m   1070\u001b[0m \u001b[39mreturn\u001b[39;00m \u001b[39mself\u001b[39m\u001b[39m.\u001b[39mindex\u001b[39m.\u001b[39m_get_values_for_loc(\u001b[39mself\u001b[39m, loc, label)\n",
      "File \u001b[0;32m~/opt/anaconda3/lib/python3.9/site-packages/pandas/core/indexes/base.py:3623\u001b[0m, in \u001b[0;36mIndex.get_loc\u001b[0;34m(self, key, method, tolerance)\u001b[0m\n\u001b[1;32m   3621\u001b[0m     \u001b[39mreturn\u001b[39;00m \u001b[39mself\u001b[39m\u001b[39m.\u001b[39m_engine\u001b[39m.\u001b[39mget_loc(casted_key)\n\u001b[1;32m   3622\u001b[0m \u001b[39mexcept\u001b[39;00m \u001b[39mKeyError\u001b[39;00m \u001b[39mas\u001b[39;00m err:\n\u001b[0;32m-> 3623\u001b[0m     \u001b[39mraise\u001b[39;00m \u001b[39mKeyError\u001b[39;00m(key) \u001b[39mfrom\u001b[39;00m \u001b[39merr\u001b[39;00m\n\u001b[1;32m   3624\u001b[0m \u001b[39mexcept\u001b[39;00m \u001b[39mTypeError\u001b[39;00m:\n\u001b[1;32m   3625\u001b[0m     \u001b[39m# If we have a listlike key, _check_indexing_error will raise\u001b[39;00m\n\u001b[1;32m   3626\u001b[0m     \u001b[39m#  InvalidIndexError. Otherwise we fall through and re-raise\u001b[39;00m\n\u001b[1;32m   3627\u001b[0m     \u001b[39m#  the TypeError.\u001b[39;00m\n\u001b[1;32m   3628\u001b[0m     \u001b[39mself\u001b[39m\u001b[39m.\u001b[39m_check_indexing_error(key)\n",
      "\u001b[0;31mKeyError\u001b[0m: 'Hours watched (mins)'"
     ]
    }
   ],
   "source": [
    "# Write INSERT statements to .sql file. Uncomment one write statement at a time\n",
    "if (iterate_all):\n",
    "    for index, row in data.iterrows():\n",
    "        if (index % 10000 == 0):\n",
    "            print(index)\n",
    "        #f.write('INSERT INTO TwitchGames VALUES(\\\"%s\\\", %s,  %s, %s, %s, \\\"%s\\\", %s, %s, %s);\\n' % (row[\"Game\"], row[\"Watch time (mins)\"], row[\"Stream time (mins)\"], row[\"Peak viewers\"], row[\"Peak channels\"], row[\"Streamers\"], row[\"Average viewers\"], row[\"Average channels\"], row[\"Average viewer ratio\"]))\n",
    "        #f.write('INSERT INTO TwitchWatched VALUES(\\\"%s\\\", %s, %s, %s, %s, %s, %s, %s, %s, \\\"%s\\\");\\n' % (row[\"Channel\"], row[\"Watch time (mins)\"], row[\"Stream time (mins)\"], row[\"Peak viewers\"], row[\"Average viewers\"], row[\"Followers\"], row[\"Followers gained\"], row[\"Partnered\"], row[\"Mature\"], row[\"Language\"]))\n",
    "        f.write('INSERT INTO TwitchStats VALUES(\\\"%s\\\", %s,  %s, %s, %s, %s, %s, %s, %s, %s);\\n' % (row[\"Month\"], row[\"Hours watched (mins)\"], row[\"Average viewers\"], row[\"Peak viewers\"], row[\"Average channels\"], row[\"Peak channels\"], row[\"Hours streamed (mins)\"], row[\"Games streamed\"], row[\"Active affiliates\"], row[\"Active partners\"]))\n",
    "        #summart = row[\"summary\"]\n",
    "        #summart = summart.replace(\"\\\"\", \"\")\n",
    "        #f.write('INSERT INTO Metacritic VALUES(\\\"%s\\\", %s, \\\"%s\\\", \\\"%s\\\", %s, \\\"%s\\\");\\n' % (row[\"name\"], row[\"meta_score\"], row[\"platform\"], row[\"release_date\"], row[\"user_review\"], summart))\n",
    "        # f.write('INSERT INTO GameSales VALUES(\\\"%s\\\", \\\"%s\\\", \\\"%s\\\", \\\"%s\\\", \\\"%s\\\", %s, %s, %s, %s, %s, %s, \\\"%s\\\", \\\"%s\\\");\\n' % (row[\"title\"], row[\"console\"], row[\"genre\"], row[\"publisher\"], row[\"developer\"], row[\"vg_score\"], row[\"user_score\"], row[\"total_sales\"], row[\"na_sales\"], row[\"jp_sales\"], row[\"other_sales\"], row[\"release_date\"], row[\"last_update\"]) )\n",
    "        \n",
    "        #f.write(\"INSERT INTO Episodes VALUES (\\\"%s\\\", \\\"%s\\\", %s, %s);\\n\" % (row[\"tconst\"], row[\"parentTconst\"], row[\"seasonNumber\"], row[\"episodeNumber\"]))\n",
    "        #f.write(\"INSERT INTO Principals VALUES (\\\"%s\\\", \\\"%s\\\", %s, \\\"%s\\\",\\\"%s\\\");\\n\" % (row[\"tconst\"], row[\"nconst\"], row[\"ordering\"], row[\"job\"], row[\"characters\"]))\n",
    "        #f.write(\"INSERT INTO Ratings VALUES (\\\"%s\\\", %s, %s);\\n\" % (row[\"tconst\"], row[\"averageRating\"], row[\"numVotes\"]))\n",
    "        #f.write(\"INSERT INTO Crew VALUES (\\\"%s\\\", \\\"%s\\\", \\\"%s\\\");\\n\" % (row[\"tconst\"], row[\"directors\"], row[\"writers\"]))\n",
    "        #f.write(\"INSERT INTO TitleTranslated VALUES (\\\"%s\\\", \\\"%s\\\", \\\"%s\\\", \\\"%s\\\", \\\"%s\\\", %s);\\n\" % (row[\"titleId\"], row[\"title\"], row[\"region\"], row[\"language\"], row[\"types\"], row[\"isOriginalTitle\"]))\n",
    "        #f.write(\"INSERT INTO TitleInfo VALUES (\\\"%s\\\", \\\"%s\\\", \\\"%s\\\", \\\"%s\\\", %s, %s, %s, \\\"%s\\\");\\n\" % (row[\"tconst\"], row[\"titleType\"], row[\"primaryTitle\"], row[\"originalTitle\"], row[\"startYear\"], row[\"endYear\"], row[\"runtimeMinutes\"], row[\"genres\"]))\n",
    "        #f.write(\"INSERT INTO Basics VALUES (\\\"%s\\\", \\\"%s\\\", %s, %s, \\\"%s\\\", \\\"%s\\\");\\n\" % (row[\"nconst\"], row[\"primaryName\"], row[\"birthYear\"], row[\"deathYear\"], row[\"primaryProfession\"], row[\"knownForTitles\"]))\n",
    "    f.close()\n",
    "else:\n",
    "    for idx in range(int(data.shape[0] * 99/100), data.shape[0]):\n",
    "        if (idx % 10000 == 0):\n",
    "            print(idx)\n",
    "        row = data.iloc[idx]\n",
    "        #f.write(\"INSERT INTO Basics VALUES (\\\"%s\\\", \\\"%s\\\", %s, %s, \\\"%s\\\", \\\"%s\\\");\\n\" % (row[\"nconst\"], row[\"primaryName\"], row[\"birthYear\"], row[\"deathYear\"], row[\"primaryProfession\"], row[\"knownForTitles\"]))\n",
    "        #f.write(\"INSERT INTO Episodes VALUES (\\\"%s\\\", \\\"%s\\\", %s, %s);\\n\" % (row[\"tconst\"], row[\"parentTconst\"], row[\"seasonNumber\"], row[\"episodeNumber\"]))\n",
    "        #summart = row[\"characters\"]\n",
    "        #summart = summart.replace(\"\\\"\", \"\")\n",
    "        #summart = summart.replace(\"\\'\", \"\")\n",
    "        #f.write(\"INSERT INTO Principals VALUES (\\\"%s\\\", \\\"%s\\\", %s, \\\"%s\\\",\\\"%s\\\");\\n\" % (row[\"tconst\"], row[\"nconst\"], row[\"ordering\"], row[\"job\"], summart))\n",
    "        #f.write(\"INSERT INTO Ratings VALUES (\\\"%s\\\", %s, %s);\\n\" % (row[\"tconst\"], row[\"averageRating\"], row[\"numVotes\"]))\n",
    "        #f.write(\"INSERT INTO Crew VALUES (\\\"%s\\\", \\\"%s\\\", \\\"%s\\\");\\n\" % (row[\"tconst\"], row[\"directors\"], row[\"writers\"]))\n",
    "        #summart = row[\"title\"]\n",
    "        #summart = summart.replace(\"\\\"\", \"\")\n",
    "        #summart = summart.replace(\"\\'\", \"\")\n",
    "        #f.write(\"INSERT INTO TitleTranslated VALUES (\\\"%s\\\", \\\"%s\\\", \\\"%s\\\", \\\"%s\\\", \\\"%s\\\", %s);\\n\" % (row[\"titleId\"], summart, row[\"region\"], row[\"language\"], row[\"types\"], row[\"isOriginalTitle\"]))\n",
    "        summart = row[\"primaryTitle\"]\n",
    "        summart = summart.replace(\"\\\"\", \"\")\n",
    "        summart = summart.replace(\"\\'\", \"\")\n",
    "        summar = row[\"originalTitle\"]\n",
    "        summar = summar.replace(\"\\\"\", \"\")\n",
    "        summar = summar.replace(\"\\'\", \"\")\n",
    "        f.write(\"INSERT INTO TitleInfo VALUES (\\\"%s\\\", \\\"%s\\\", \\\"%s\\\", \\\"%s\\\", %s, %s, %s, \\\"%s\\\");\\n\" % (row[\"tconst\"], row[\"titleType\"], summart, summar, row[\"startYear\"], row[\"endYear\"], row[\"runtimeMinutes\"], row[\"genres\"]))\n",
    "        \n",
    "    f.close()"
   ]
  },
  {
   "cell_type": "code",
   "execution_count": null,
   "metadata": {},
   "outputs": [],
   "source": [
    "f.close()"
   ]
  }
 ],
 "metadata": {
  "kernelspec": {
   "display_name": "Python 3.9.12 ('base')",
   "language": "python",
   "name": "python3"
  },
  "language_info": {
   "codemirror_mode": {
    "name": "ipython",
    "version": 3
   },
   "file_extension": ".py",
   "mimetype": "text/x-python",
   "name": "python",
   "nbconvert_exporter": "python",
   "pygments_lexer": "ipython3",
   "version": "3.9.12"
  },
  "orig_nbformat": 4,
  "vscode": {
   "interpreter": {
    "hash": "e31837aca1fa43e18117719ca397dcbb9a59a1ad4b77b110511c3afab9fb32c7"
   }
  }
 },
 "nbformat": 4,
 "nbformat_minor": 2
}
